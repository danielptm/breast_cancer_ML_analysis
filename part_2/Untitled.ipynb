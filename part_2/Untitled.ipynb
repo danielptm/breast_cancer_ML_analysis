{
 "cells": [
  {
   "cell_type": "code",
   "execution_count": null,
   "id": "engaged-yellow",
   "metadata": {},
   "outputs": [],
   "source": [
    "#Clean data description\n",
    "# I downloaded the data from http://archive.ics.uci.edu/ml/datasets/Breast+Cancer+Wisconsin+%28Original%29\n",
    "# There were no headers so i created the header based on the data description\n",
    "\n"
   ]
  }
 ],
 "metadata": {
  "kernelspec": {
   "display_name": "Python 3",
   "language": "python",
   "name": "python3"
  },
  "language_info": {
   "codemirror_mode": {
    "name": "ipython",
    "version": 3
   },
   "file_extension": ".py",
   "mimetype": "text/x-python",
   "name": "python",
   "nbconvert_exporter": "python",
   "pygments_lexer": "ipython3",
   "version": "3.8.2"
  }
 },
 "nbformat": 4,
 "nbformat_minor": 5
}
